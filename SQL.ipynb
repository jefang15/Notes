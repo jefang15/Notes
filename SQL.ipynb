{
 "cells": [
  {
   "cell_type": "markdown",
   "metadata": {},
   "source": [
    "# SQL"
   ]
  },
  {
   "cell_type": "markdown",
   "metadata": {},
   "source": [
    "SQL (Structured Query Language) is a standard language for storing, manipulating and retrieving data in databases. SQL statements are not case sensitive, and certain SQL programs require semi-colons at the end of the statement."
   ]
  },
  {
   "cell_type": "markdown",
   "metadata": {},
   "source": [
    "**Relational Database Management System**\n",
    "\n",
    "RDBMS is the basis for SQL, and for all modern database systems such as MS SQL Server, IBM DB2, Oracle, MySQL, and Microsoft Access.\n",
    "\n",
    "Data in a RDMS is stored in tables, which consists of columns (fields) and rows (records)."
   ]
  },
  {
   "cell_type": "markdown",
   "metadata": {},
   "source": [
    "**Major SQL Commands:**\n",
    "\n",
    "* Select\n",
    "* Update\n",
    "* Delete\n",
    "* Insert\n",
    "* Where\n"
   ]
  },
  {
   "cell_type": "markdown",
   "metadata": {},
   "source": [
    "### Select"
   ]
  },
  {
   "cell_type": "markdown",
   "metadata": {},
   "source": [
    "Used to select and return data from a database. The returned data is stored in a result table, or a result-set."
   ]
  },
  {
   "cell_type": "code",
   "execution_count": null,
   "metadata": {
    "vscode": {
     "languageId": "sql"
    }
   },
   "outputs": [],
   "source": [
    "select * from table1 --select all fields from table\n",
    "select column1, column2 from table1  --select certain fields from table"
   ]
  },
  {
   "cell_type": "code",
   "execution_count": null,
   "metadata": {
    "vscode": {
     "languageId": "sql"
    }
   },
   "outputs": [],
   "source": [
    "select distinct column1 from table1  --returns all unique values in column1\n",
    "select count(distinct column1) from table1  --counts the number of unique values in column1"
   ]
  },
  {
   "cell_type": "markdown",
   "metadata": {},
   "source": [
    "### Where"
   ]
  },
  {
   "cell_type": "markdown",
   "metadata": {},
   "source": [
    "Used to filter records in a table that meet a certain condition. SQL requires single quotes around strings, but not around numeric values."
   ]
  },
  {
   "cell_type": "markdown",
   "metadata": {},
   "source": [
    "**Where Operators**\n",
    "\n",
    "* =\n",
    "* >\n",
    "* <\n",
    "* >=\n",
    "* <=\n",
    "* <> (not equal, may appear as != in some versions of SQL)\n",
    "* Between (between a range)\n",
    "* Like (search for a pattern)\n",
    "* In (multiple possible values in a column)"
   ]
  },
  {
   "cell_type": "code",
   "execution_count": null,
   "metadata": {
    "vscode": {
     "languageId": "sql"
    }
   },
   "outputs": [],
   "source": [
    "select * from table1 where condition;\n",
    "select * from table1 where column1 = 'string';  --filter based on string\n",
    "select * from table1 where column2 = 10;  --filter based on numeric value"
   ]
  },
  {
   "cell_type": "markdown",
   "metadata": {},
   "source": [
    "**And, Or, Not**\n",
    "\n",
    "Filter records based on more than one condition. 'And' requires that all conditions be true, whereas 'or' requires only requires any condition to be true. Not returns a condition if none of the conditions are true."
   ]
  },
  {
   "cell_type": "code",
   "execution_count": null,
   "metadata": {
    "vscode": {
     "languageId": "sql"
    }
   },
   "outputs": [],
   "source": [
    "select * from table1 where condition1 and condition2\n",
    "select * from table1 where not string = \"a\" and not string = \"b\"\n",
    "select * from table1 where columnA = \"a\" and (columnB = \"string\" or columnC = \"string2\")"
   ]
  }
 ],
 "metadata": {
  "language_info": {
   "name": "python"
  },
  "orig_nbformat": 4
 },
 "nbformat": 4,
 "nbformat_minor": 2
}
