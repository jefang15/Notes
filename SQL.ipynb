{
 "cells": [
  {
   "cell_type": "markdown",
   "metadata": {},
   "source": [
    "# SQL"
   ]
  },
  {
   "cell_type": "markdown",
   "metadata": {},
   "source": [
    "SQL (Structured Query Language) is a standard language for storing, manipulating and retrieving data in databases. SQL statements are not case sensitive, and certain SQL programs require semi-colons at the end of the statement."
   ]
  },
  {
   "cell_type": "markdown",
   "metadata": {},
   "source": [
    "**Relational Database Management System**\n",
    "\n",
    "RDBMS is the basis for SQL, and for all modern database systems such as MS SQL Server, IBM DB2, Oracle, MySQL, and Microsoft Access.\n",
    "\n",
    "Data in a RDMS is stored in tables, which consists of columns (fields) and rows (records)."
   ]
  },
  {
   "cell_type": "markdown",
   "metadata": {},
   "source": [
    "**Major SQL Commands:**\n",
    "\n",
    "* Select\n",
    "* Update\n",
    "* Delete\n",
    "* Insert\n",
    "* Where\n"
   ]
  },
  {
   "cell_type": "markdown",
   "metadata": {},
   "source": [
    "### Select"
   ]
  },
  {
   "cell_type": "markdown",
   "metadata": {},
   "source": [
    "Used to select and return data from a database. The returned data is stored in a result table, or a result-set."
   ]
  },
  {
   "cell_type": "code",
   "execution_count": null,
   "metadata": {
    "vscode": {
     "languageId": "sql"
    }
   },
   "outputs": [],
   "source": [
    "select * from table1 --select all fields from table\n",
    "select column1, column2 from table1  --select certain fields from table"
   ]
  },
  {
   "cell_type": "markdown",
   "metadata": {},
   "source": [
    "**Distinct**"
   ]
  },
  {
   "cell_type": "code",
   "execution_count": null,
   "metadata": {
    "vscode": {
     "languageId": "sql"
    }
   },
   "outputs": [],
   "source": [
    "select distinct column1 from table1  --returns all unique values in column1\n",
    "select count(distinct column1) from table1  --counts the number of unique values in column1"
   ]
  },
  {
   "cell_type": "markdown",
   "metadata": {},
   "source": [
    "**Top/Limit/Fetch**"
   ]
  },
  {
   "cell_type": "code",
   "execution_count": null,
   "metadata": {
    "vscode": {
     "languageId": "sql"
    }
   },
   "outputs": [],
   "source": [
    "/* syntax varies based on database systems */\n",
    "\n",
    "select top 10 * from table1 where condition  --SQL Server/MS Access\n",
    "select top 5 percent * from table1 where condition  --SQL Server/MS Access\n",
    "select * from table1 where condition limit 10  --MySQL\n",
    "select * from table1 where condition fetch first 10 rows only  --Oracle\n",
    "select * from table1 where condition fetch first 5 percent only  --Oracle"
   ]
  },
  {
   "cell_type": "markdown",
   "metadata": {},
   "source": [
    "**Min Max**"
   ]
  },
  {
   "cell_type": "code",
   "execution_count": null,
   "metadata": {
    "vscode": {
     "languageId": "sql"
    }
   },
   "outputs": [],
   "source": [
    "select min(column1) from table1 where condition\n",
    "select max(column1) from table1 where condition"
   ]
  },
  {
   "cell_type": "markdown",
   "metadata": {},
   "source": [
    "**Count, Average, Sum**"
   ]
  },
  {
   "cell_type": "code",
   "execution_count": null,
   "metadata": {
    "vscode": {
     "languageId": "sql"
    }
   },
   "outputs": [],
   "source": [
    "select count(*) from table1 where condition  --return number of records that meet a condition\n",
    "select count(column1) from table1 where condition  --return number of records in a specific column that meet a condition\n",
    "select avg(column1) from table1 where condition\n",
    "select sum(column1) from table1 where condition\n"
   ]
  },
  {
   "cell_type": "markdown",
   "metadata": {},
   "source": [
    "### Where"
   ]
  },
  {
   "cell_type": "markdown",
   "metadata": {},
   "source": [
    "Used to filter records in a table that meet a certain condition. SQL requires single quotes around strings, but not around numeric values."
   ]
  },
  {
   "cell_type": "markdown",
   "metadata": {},
   "source": [
    "**Where Operators**\n",
    "\n",
    "* =\n",
    "* >\n",
    "* <\n",
    "* >=\n",
    "* <=\n",
    "* <> (not equal, may appear as != in some versions of SQL)\n",
    "* Between (between a range)\n",
    "* Like (search for a pattern)\n",
    "* In (multiple possible values in a column)"
   ]
  },
  {
   "cell_type": "code",
   "execution_count": null,
   "metadata": {
    "vscode": {
     "languageId": "sql"
    }
   },
   "outputs": [],
   "source": [
    "SELECT * FROM table1 WHERE condition;\n",
    "SELECT * FROM table1 WHERE column1 = 'string';  --filter based on string\n",
    "SELECT * FROM table1 WHERE column2 = 10;  --filter based on numeric value\n",
    "SELECT * FROM table1 WHERE column3 IS NULL  --test for null values\n",
    "SELECT * FROM table1 WHERE column3 IS NOT NULL  --test for values that are not null"
   ]
  },
  {
   "cell_type": "markdown",
   "metadata": {},
   "source": [
    "**And, Or, Not**\n",
    "\n",
    "Filter records based on more than one condition. 'And' requires that all conditions be true, whereas 'or' requires only requires any condition to be true. Not returns a condition if none of the conditions are true."
   ]
  },
  {
   "cell_type": "code",
   "execution_count": null,
   "metadata": {
    "vscode": {
     "languageId": "sql"
    }
   },
   "outputs": [],
   "source": [
    "SELECT * FROM table1 WHERE condition1 AND condition2\n",
    "SELECT * FROM table1 WHERE NOT string = \"a\" AND NOT string = \"b\"\n",
    "SELECT * FROM table1 WHERE columnA = \"a\" AND (columnB = \"string\" OR columnC = \"string2\")"
   ]
  },
  {
   "cell_type": "markdown",
   "metadata": {},
   "source": [
    "**Like**\n",
    "\n",
    "Used to search for a specific pattern in a column."
   ]
  },
  {
   "cell_type": "code",
   "execution_count": null,
   "metadata": {
    "vscode": {
     "languageId": "sql"
    }
   },
   "outputs": [],
   "source": [
    "SELECT * FROM table1 Where column1 LIKE pattern\n",
    "SELECT * FROM table1 Where column1 LIKE 'a%'  --find values that start with 'a'\n",
    "SELECT * FROM table1 Where column1 LIKE '%a'  --find values that end with 'a'\n",
    "SELECT * FROM table1 Where column1 LIKE '%diamond%'  --find values that contain 'diamond'\n",
    "SELECT * FROM table1 Where column1 NOT LIKE '%diamond%'  --find values that do not contain 'diamond'\n",
    "SELECT * FROM table1 Where column1 LIKE '_r%'  --find values that contain the letter 'r' in the second position\n",
    "SELECT * FROM table1 Where column1 LIKE 'a_%'  --find values that start with 'a' and are at least 2 characters long\n",
    "SELECT * FROM table1 Where column1 LIKE 'a__%'  --find values that start with 'a' and are at least 3 characters long\n",
    "SELECT * FROM table1 Where column1 LIKE 'a%o'  --find values that start with 'a' and end with 'o'"
   ]
  },
  {
   "cell_type": "markdown",
   "metadata": {},
   "source": [
    "### Order By"
   ]
  },
  {
   "cell_type": "markdown",
   "metadata": {},
   "source": [
    "Sort the result-set in ascending or descending order. Default is ascending."
   ]
  },
  {
   "cell_type": "code",
   "execution_count": null,
   "metadata": {
    "vscode": {
     "languageId": "sql"
    }
   },
   "outputs": [],
   "source": [
    "SELECT * FROM table1 ORDER BY column1 ASC  --sort ascending\n",
    "SELECT * FROM table1 ORDER BY column1 DESC  --sort descending\n",
    "SELECT * FROM table1 ORDER BY column1 ASC, column2 DESC  --sort by two fields"
   ]
  },
  {
   "cell_type": "markdown",
   "metadata": {},
   "source": [
    "### Insert Into"
   ]
  },
  {
   "cell_type": "markdown",
   "metadata": {},
   "source": [
    "Adds new records into a table."
   ]
  },
  {
   "cell_type": "code",
   "execution_count": null,
   "metadata": {
    "vscode": {
     "languageId": "sql"
    }
   },
   "outputs": [],
   "source": [
    "INSERT INTO table1 (column3) VALUES (value3)  --add values into specific columns\n",
    "INSERT INTO table1 VALUES (value1, value2, value3)  --add values into all columns"
   ]
  },
  {
   "cell_type": "markdown",
   "metadata": {},
   "source": [
    "### Update"
   ]
  },
  {
   "cell_type": "markdown",
   "metadata": {},
   "source": [
    "Modify existing records in a table."
   ]
  },
  {
   "cell_type": "code",
   "execution_count": null,
   "metadata": {
    "vscode": {
     "languageId": "sql"
    }
   },
   "outputs": [],
   "source": [
    "/* Without the where statement, all records in the table will be updated */\n",
    "\n",
    "UPDATE table1 SET column1 = value1, column2 = value2 WHERE id = 1  --use where to specify which row/index to modify\n",
    "UPDATE table1 SET column1 = value1 WHERE condition  --change all rows where the condition is met\n",
    "UPDATE table1 SET column1 = value1  --update all records in column1 to value1"
   ]
  },
  {
   "cell_type": "markdown",
   "metadata": {},
   "source": [
    "### Delete"
   ]
  },
  {
   "cell_type": "markdown",
   "metadata": {},
   "source": [
    "Delete records from a table."
   ]
  },
  {
   "cell_type": "code",
   "execution_count": null,
   "metadata": {
    "vscode": {
     "languageId": "sql"
    }
   },
   "outputs": [],
   "source": [
    "/* without a where statement all records in the table will be deleted */\n",
    "\n",
    "DELETE FROM table1 WHERE condition\n",
    "DELETE FROM table1  --deletes all records in a table, but retains the table structure, attributes, and indexes"
   ]
  },
  {
   "cell_type": "markdown",
   "metadata": {},
   "source": [
    "### Top"
   ]
  }
 ],
 "metadata": {
  "language_info": {
   "name": "python"
  },
  "orig_nbformat": 4
 },
 "nbformat": 4,
 "nbformat_minor": 2
}
