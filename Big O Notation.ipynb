{
 "cells": [
  {
   "cell_type": "markdown",
   "metadata": {},
   "source": [
    "# **Big O Notation**"
   ]
  },
  {
   "cell_type": "markdown",
   "metadata": {},
   "source": [
    "A framework to analyze and compare algorithms. The `O` function is the growth rate in function of the input size `n`. Measures an algorithm's running time or space (memory used) as the input grows. The complexity of the entire algorithm is the worst-case, or higher order, complexity for a given statement within the algorithm.\n"
   ]
  },
  {
   "cell_type": "markdown",
   "metadata": {},
   "source": [
    "## Time Complexity"
   ]
  },
  {
   "cell_type": "markdown",
   "metadata": {},
   "source": [
    "Time Complexity estimates how an algorithm will run based on an `n` input size and `O` as the worst-case scenario growth rate function in the algorithm."
   ]
  },
  {
   "cell_type": "markdown",
   "metadata": {},
   "source": [
    "|Big O Notation|Name|Example|\n",
    "|:-|:-|:-|\n",
    "|O(1)|Constant|Look-up table|\n",
    "|O(log n)|Logarithmic|Binary search (finding elements in a sorted array|\n",
    "|O(n)|Linear|Find max element in unsorted array|\n",
    "|O(n log n)|Linearithmic|Merge sort (sorting elements in array)|\n",
    "|O(n^2)|Quadratic|Duplicate elements in array|\n",
    "|O(n^3)|Cubic|Three-variable equation solver|\n",
    "|O(2^x)|Exponential|Find all subsets|\n",
    "|O(n!)|Factoral|Find all permutations of a given string|"
   ]
  },
  {
   "cell_type": "markdown",
   "metadata": {},
   "source": [
    "Translating code to time complexity\n",
    "\n",
    "**Constant Time:** `O(1)`\n",
    "\n",
    "Algorithms that take the same amount of time to compute regardless of the size of the input. If there are multiple statements with multiple operations of constant time, the entire algorithm will take constant time.\n",
    "\n",
    "Examples:\n",
    "* Math\n",
    "* Comparisons\n",
    "* Assigning a value to a variable\n",
    "* Reading/printing a variable\n",
    "* Determine if an element is even or odd\n",
    "* Constant loops\n",
    "\n",
    "**Logarithmic Time:** `O(log n)`\n",
    "\n",
    "Examples:\n",
    "* Binary search\n",
    "* Recursive algorithms\n",
    "\n",
    "**Linear Time:** `O(n)`\n",
    "\n",
    "Implies that the algorithm visits every element of the input, so the algorithm takes proportionally longer as the input gets larger. \n",
    "\n",
    "Examples:\n",
    "* For loop\n",
    "* While loop\n",
    "* Print all values in a list\n",
    "* Find a given element in a collection\n",
    "* Get the max/min of an array\n",
    "\n",
    "**Linearithmic:** `O(n log n)`\n",
    "\n",
    "Examples:\n",
    "* Mergesort\n",
    "\n",
    "**Quadratic Time:** `O(n^2)`\n",
    "\n",
    "Examples:\n",
    "* Check if a collection has duplicate values.\n",
    "* Find all ordered pairs in an array.\n",
    "* Bubble sort\n",
    "\n",
    "**Polynomial Time:** `O(n^c)`\n",
    "\n",
    "Examples:\n",
    "* Triple nested loops\n",
    "\n",
    "**Exponential:** `O(2^n)`\n",
    "\n",
    "Examples:\n",
    "* Power set\n",
    "\n",
    "**Factorial Time:** `O(n!)`\n",
    "\n",
    "Factorial is the multiplication of all positive integer numbers less than itself. e.g. 3! = 3 * 2 * 1\n",
    "\n",
    "Examples:\n",
    "* Permutations of a string"
   ]
  },
  {
   "cell_type": "markdown",
   "metadata": {},
   "source": [
    "## Space Complexity"
   ]
  },
  {
   "cell_type": "markdown",
   "metadata": {},
   "source": [
    "How much memory the algorithm will use. "
   ]
  }
 ],
 "metadata": {
  "language_info": {
   "name": "python"
  },
  "orig_nbformat": 4
 },
 "nbformat": 4,
 "nbformat_minor": 2
}
