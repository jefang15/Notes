{
 "cells": [
  {
   "cell_type": "markdown",
   "metadata": {},
   "source": [
    "# Jupyter Notebook Markdown Notes"
   ]
  },
  {
   "cell_type": "markdown",
   "metadata": {},
   "source": [
    "### Font Size\n",
    "\n",
    "#### Smallest\n",
    "### Small\n",
    "## Medium\n",
    "# Large"
   ]
  },
  {
   "cell_type": "markdown",
   "metadata": {},
   "source": [
    "### Emphasis\n",
    "\n",
    "**Bold**\n",
    "\n",
    "*Italics*\n",
    "\n",
    "***Bold and italics***\n",
    "\n",
    "~~Strikethrough~~\n",
    "\n",
    "`Code`"
   ]
  },
  {
   "cell_type": "markdown",
   "metadata": {},
   "source": [
    "<a id=\"Lists\"></a>\n",
    "### Lists\n",
    "\n",
    "* Bullet\n",
    "    * Sub-bullet\n",
    "\n",
    "\n",
    "1. Numbered list\n",
    "\n",
    "2. Numbered list"
   ]
  },
  {
   "cell_type": "markdown",
   "metadata": {},
   "source": [
    "### Border\n",
    "\n",
    "*** \n",
    "Break; horizontal line above and below\n",
    "***\n",
    "\n",
    "\n",
    "\n",
    "Single horizontal line\n",
    "\n",
    "***"
   ]
  },
  {
   "cell_type": "markdown",
   "metadata": {},
   "source": [
    "### Line Break\n",
    "\n",
    "Using line break <br>\n",
    "Hello<br>there\n",
    "\n",
    "Using two spaces <br>\n",
    "Two  \n",
    "spaces"
   ]
  },
  {
   "cell_type": "markdown",
   "metadata": {},
   "source": [
    "### Indented quote\n",
    "\n",
    "> One thing was certain, that the white kitten had had nothing\n",
    "> to do with it -- it was the black kitten's fault entirely. For\n",
    "> the white kitten had been having its face washed by the old cat,\n",
    "> for the last quarter of an hour (and bearing it pretty well,\n",
    "> considering) so you see that it couldn't have had any hand in\n",
    "> the mischief. <cite>Lewis Carroll, Through the Looking\n",
    "> Glass</cite>"
   ]
  },
  {
   "cell_type": "markdown",
   "metadata": {},
   "source": [
    "### Colors\n",
    "\n",
    "<font color = blue>this is blue</font>\n",
    "\n",
    "<font color = red>this is red</font>\n",
    "\n",
    "<font color = green>this is green</font>\n",
    "\n",
    "<font color = yellow>this is yellow</font>\n",
    "\n",
    "<font color = orange>this is orange</font>\n"
   ]
  },
  {
   "cell_type": "markdown",
   "metadata": {},
   "source": [
    "### Links\n",
    "\n",
    "Internal Links <br>\n",
    "Creat title: <a id='Cell'></a>\n",
    "[Go to Cell](#Cell) <br>\n",
    "In the parentheses, replace any spaces with hyphens.\n",
    "\n",
    "External Lists <br>\n",
    "Go to [source](https://ingeh.medium.com/markdown-for-jupyter-notebooks-cheatsheet-386c05aeebed)\n"
   ]
  },
  {
   "cell_type": "markdown",
   "metadata": {},
   "source": [
    "### Table\n",
    "\n",
    "|Column 1|Column 2|Column 3|\n",
    "|:-|:-|:-|\n",
    "|A|B|C|\n",
    "|D|E|F|\n"
   ]
  },
  {
   "cell_type": "markdown",
   "metadata": {},
   "source": [
    "### Mathematical symbols\n",
    "\n",
    "$ a^2 + b^2 = c^2 $ \n",
    "\n",
    "$ y = mx+b $"
   ]
  }
 ],
 "metadata": {
  "kernelspec": {
   "display_name": "Python 3.9.3 64-bit",
   "name": "python393jvsc74a57bd07812ea015bdcee6f23a998adcdd2ef97c151c0c241b7b7070987d9313e41299d"
  },
  "language_info": {
   "name": "python",
   "version": ""
  },
  "metadata": {
   "interpreter": {
    "hash": "7812ea015bdcee6f23a998adcdd2ef97c151c0c241b7b7070987d9313e41299d"
   }
  },
  "orig_nbformat": 2
 },
 "nbformat": 4,
 "nbformat_minor": 2
}
