{
 "cells": [
  {
   "cell_type": "markdown",
   "metadata": {},
   "source": [
    "# GitHub Workflow Notes"
   ]
  },
  {
   "cell_type": "markdown",
   "metadata": {},
   "source": [
    "### Set up a new Repository"
   ]
  },
  {
   "cell_type": "markdown",
   "metadata": {},
   "source": [
    "**1.** Create Git Repository (versions of your project that are hosted on the Internet or network somewhere and allow for collaboration).\n",
    "\n",
    "Go to https://github.com/new and enter a Repo name\n",
    "\n",
    "<br>\n",
    "\n",
    "**2.** On the new Repo page on GitHub Enterprise, create a .gitignore file to ignore specific files or file types.\n",
    "\n",
    "e.g. add .DS_Store\n",
    "\n",
    "<br>\n",
    "\n",
    "*Switch to Git Command Line*\n",
    "\n",
    "In Visual Studio Code: create a New Terminal.\n",
    "\n",
    "<br>\n",
    "\n",
    "**3.** Set working directory to the folder location on local computer where you want the new Repo.\n",
    "\n",
    "`cd '/Users/jeff/Documents/Programming/Projects'`\n",
    "\n",
    "<br>\n",
    "\n",
    "**4.** Copy the web URL of the new Repo from GitHub Enterprise.\n",
    "\n",
    "<br>\n",
    "\n",
    "**5.** In the Terminal, clone the Repo.\n",
    "\n",
    "`git clone 'https://github.com/jefang15/Scrape-Youtube-Views.git'`\n",
    "\n",
    "<br>\n",
    "\n",
    "**6.** In the Terminal, set the working directory to the cloned Repo.\n",
    "\n",
    "`cd Scrape-Youtube-Views`\n",
    "\n",
    "<br>\n",
    "\n",
    "**7.** Create and switch to a new branch.\n",
    "\n",
    "`git checkout -b branch_name`\n",
    "\n",
    "<br>\n",
    "\n",
    "**8.** Do work in the cloned Repo's branch, such as add folders and files or modify existing content.\n",
    "\n",
    "<br>\n",
    "\n",
    "**9.** (Optional) Show new and modified content in cloned Repo.\n",
    "\n",
    "`git status`\n",
    "\n",
    "<br>\n",
    "\n",
    "**10.** Add all, or specific, new and edited content to Staging Area.\n",
    "\n",
    "Add all changes<br>\n",
    "`git add .`\n",
    "\n",
    "Add specific file<br>\n",
    "`git add file_name`\n",
    "\n",
    "<br>\n",
    "\n",
    "**11.** Commit changes.\n",
    "\n",
    "`git commit -m 'commit message'`\n",
    "\n",
    "<br>\n",
    "\n",
    "**12.** Commit changes to current branch.\n",
    "\n",
    "`git push --set-upstream origin branch_name`\n",
    "\n",
    "<br>\n",
    "\n",
    "**13.** Merge pull request.\n",
    "\n",
    "Switch to main branch<br>\n",
    "`git checkout main`\n",
    "\n",
    "Compare and merge main and new branch<br>\n",
    "`git merge new_branch`\n",
    "\n",
    "Push changes to GitHub<br>\n",
    "`git push origin main`"
   ]
  },
  {
   "cell_type": "markdown",
   "metadata": {},
   "source": [
    "**14.** Change branch back.\n",
    "\n",
    "`git checkout branch'"
   ]
  },
  {
   "cell_type": "markdown",
   "metadata": {},
   "source": [
    "### Working in an existing Repository"
   ]
  },
  {
   "cell_type": "markdown",
   "metadata": {},
   "source": [
    "**1.** Check or switch to desired branch\n",
    "\n",
    "Check current branch<br>\n",
    "`git branch`\n",
    "\n",
    "Switch to branch<br>\n",
    "`git checkout desired_branch`\n",
    "\n",
    "<br>\n",
    "\n",
    "**2.** Make changes, edits, additions, or deletions within branch.\n",
    "\n",
    "<br>\n",
    "\n",
    "**3.** (Optional) Show new and modified content in cloned Repo.\n",
    "\n",
    "`git status`\n",
    "\n",
    "<br>\n",
    "\n",
    "**4.** Add all, or specific, new and edited content to Staging Area.\n",
    "\n",
    "Add all changes<br>\n",
    "`git add -A`\n",
    "\n",
    "Add specific file<br>\n",
    "`git add file_name`\n",
    "\n",
    "<br>\n",
    "\n",
    "**5.** Commit changes.\n",
    "\n",
    "`git commit -m 'commit message'`\n",
    "\n",
    "<br>\n",
    "\n",
    "**6.** Commit changes to current branch.\n",
    "\n",
    "`git push --set-upstream origin branch_name`\n",
    "\n",
    "<br>\n",
    "\n",
    "**7.** Merge pull request.\n",
    "\n",
    "Switch to main branch<br>\n",
    "`git checkout main`\n",
    "\n",
    "Compare and merge main and new branch<br>\n",
    "`git merge new_branch`\n",
    "\n",
    "Push changes to GitHub<br>\n",
    "`git push origin main`"
   ]
  },
  {
   "cell_type": "markdown",
   "metadata": {},
   "source": [
    "**8.** Change branch back.\n",
    "\n",
    "`git checkout branch`"
   ]
  },
  {
   "cell_type": "markdown",
   "metadata": {},
   "source": [
    "### Other Notes"
   ]
  },
  {
   "cell_type": "markdown",
   "metadata": {},
   "source": [
    "Check current directory in Terminal.\n",
    "\n",
    "`ls`"
   ]
  },
  {
   "cell_type": "markdown",
   "metadata": {},
   "source": [
    "Change current directory in Terminal.\n",
    "\n",
    "`cd '/Users/jeff/Documents/Programming/Projects'`"
   ]
  },
  {
   "cell_type": "markdown",
   "metadata": {},
   "source": [
    "Check cloned Repo's origin.\n",
    "\n",
    "`git remote -v`"
   ]
  },
  {
   "cell_type": "markdown",
   "metadata": {},
   "source": [
    "Detach Repo from its origin.\n",
    "\n",
    "`git remote rm origin`"
   ]
  },
  {
   "cell_type": "markdown",
   "metadata": {},
   "source": [
    "Set Repo's origin using web URL from GitHub.\n",
    "\n",
    "`git remote add origin https://github.com/jefang15/Youtube-Views.git`"
   ]
  },
  {
   "cell_type": "markdown",
   "metadata": {},
   "source": [
    "Create branch.\n",
    "\n",
    "`git branch branch_name`"
   ]
  },
  {
   "cell_type": "markdown",
   "metadata": {},
   "source": [
    "Switch to a different branch\n",
    "\n",
    "`git checkout other_branch`"
   ]
  },
  {
   "cell_type": "markdown",
   "metadata": {},
   "source": [
    "Delete folder(s) or file(s) on GitHub\n",
    "\n",
    "\n",
    "**1.** Open Terminal to the directory that the folder or file you want to delete is in.\n",
    "\n",
    "`cd 'file path of directory on local computer'`\n",
    "\n",
    "**2.** Delete folder(s) or file(s).\n",
    "\n",
    "Delete folder<br>\n",
    "`git rm -r folder_name` <br>\n",
    "or <br>\n",
    "`git rm -r 'folder name if it contains spaces'`\n",
    "\n",
    "Delete sub-folder<br>\n",
    "`git rm -r 'parent folder/sub-folder name'`\n",
    "\n",
    "Delete file<br>\n",
    "`git rm -r file_name.extension` <br>\n",
    "or <br>\n",
    "`git rm -r 'file name.extension if it contains spaces'`"
   ]
  },
  {
   "cell_type": "markdown",
   "metadata": {},
   "source": [
    "Revert Repo to previous Commit version.\n",
    "\n",
    "Copy SHA code from GitHub history<br>\n",
    "`git reset --hard SHA_Code`"
   ]
  },
  {
   "cell_type": "markdown",
   "metadata": {},
   "source": [
    "\" Ignore entire folder in .gitignore file\"<br>\n",
    "folder_name/<br>\n",
    "parent_folder/folder_name/"
   ]
  },
  {
   "cell_type": "markdown",
   "metadata": {},
   "source": [
    "Fix problem where branch is behind main in commits.\n",
    "\n",
    "`git checkout main`<br>\n",
    "`git pull`<br>\n",
    "`git checkout branch`<br>\n",
    "`git merge main`<br>\n",
    "`git push`"
   ]
  },
  {
   "cell_type": "markdown",
   "metadata": {},
   "source": [
    "Make working branch match master branch, if working branch is behind.\n",
    "\n",
    "`git checkout main` <br>\n",
    "`git pull origin main` <br>\n",
    "`git checkout branch` <br>\n",
    "`git rebase master` <br>"
   ]
  },
  {
   "cell_type": "markdown",
   "metadata": {},
   "source": [
    "Main and master are entirely different commit histories\n",
    "\n",
    "`git checkout master` <br>\n",
    "`git branch main master -f` <br>\n",
    "`git checkout main` <br>\n",
    "`git push origin main -f` <br>"
   ]
  }
 ],
 "metadata": {
  "interpreter": {
   "hash": "aee8b7b246df8f9039afb4144a1f6fd8d2ca17a180786b69acc140d282b71a49"
  },
  "kernelspec": {
   "display_name": "Python 3.9.3 64-bit",
   "language": "python",
   "name": "python3"
  },
  "language_info": {
   "name": "python",
   "version": "3.9.3"
  },
  "orig_nbformat": 4
 },
 "nbformat": 4,
 "nbformat_minor": 2
}
